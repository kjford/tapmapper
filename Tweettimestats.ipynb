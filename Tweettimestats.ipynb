{
 "metadata": {
  "name": "Tweettimestats"
 },
 "nbformat": 3,
 "nbformat_minor": 0,
 "worksheets": [
  {
   "cells": [
    {
     "cell_type": "code",
     "collapsed": false,
     "input": [
      "import pymysql as mdb\n",
      "import pandas as pd\n",
      "import numpy as np\n",
      "from authent import dbauth as authsql\n",
      "from timestats import timestats\n",
      "from datetime import datetime\n",
      "\n",
      "con=mdb.connect(**authsql)\n",
      "\n",
      "# id locations with regular postings\n",
      "\n",
      "# pull tweet time and location\n",
      "\n",
      "sql='''\n",
      "SELECT a.tweettime, a.tweetloc\n",
      "FROM procbintweets b\n",
      "JOIN processedtweets a\n",
      "ON a.proctwid=b.proctweetid\n",
      "'''\n",
      "\n",
      "timelocdf=pd.io.sql.read_sql(sql,con)"
     ],
     "language": "python",
     "metadata": {},
     "outputs": [],
     "prompt_number": 33
    },
    {
     "cell_type": "code",
     "collapsed": false,
     "input": [
      "# group by location\n",
      "# bin into 15min bins\n",
      "# look for location that have highly regular tweet patterns\n",
      "tbins=np.arange(0,24,0.25)\n",
      "lochist={}\n",
      "locstd={}\n",
      "locmean={}\n",
      "for loc,timeser in timelocdf.groupby('tweetloc'):\n",
      "    if len(timeser.tweettime)>10:\n",
      "        t=[x.hour+x.minute/60.0 for x in timeser.tweettime]\n",
      "        locmean[loc],locstd[loc]=timestats(t)\n",
      "        lochist[loc]=np.histogram(t,bins=tbins)[0]\n",
      " "
     ],
     "language": "python",
     "metadata": {},
     "outputs": [],
     "prompt_number": 34
    },
    {
     "cell_type": "code",
     "collapsed": false,
     "input": [
      "alllocs=lochist.keys()\n",
      "stds=[locstd[k] for k in alllocs]\n",
      "hist(stds,20)\n",
      "xlabel('Variability in Tweet time (hours)')\n",
      "ylabel('# of Locations')\n",
      "box('off')"
     ],
     "language": "python",
     "metadata": {},
     "outputs": [],
     "prompt_number": 48
    },
    {
     "cell_type": "code",
     "collapsed": false,
     "input": [
      "means=[locmean[k] for k in alllocs]\n",
      "hist(means,50)\n",
      "xlabel('Average Tweet time (UTC)')\n",
      "ylabel('# of Locations')\n",
      "box('off')"
     ],
     "language": "python",
     "metadata": {},
     "outputs": [],
     "prompt_number": 51
    },
    {
     "cell_type": "code",
     "collapsed": false,
     "input": [],
     "language": "python",
     "metadata": {},
     "outputs": []
    }
   ],
   "metadata": {}
  }
 ]
}